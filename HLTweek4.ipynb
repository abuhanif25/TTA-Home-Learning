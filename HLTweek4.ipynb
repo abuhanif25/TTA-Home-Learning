{
 "cells": [
  {
   "cell_type": "markdown",
   "metadata": {},
   "source": [
    "Task1\n",
    "Write a program that allows you to enter 4 Numbers and stores them in a file \"Numbers\"\n",
    "- 3\n",
    "- 45\n",
    "- 83\n",
    "- 21\n",
    "Have a go at 'w' 'r' 'a'\n"
   ]
  },
  {
   "cell_type": "code",
   "execution_count": 16,
   "metadata": {},
   "outputs": [],
   "source": [
    "my_file = open(\"Numbers.txt\", \"w\")\n",
    "\n",
    "my_file.write(str(3) + \"\\n\")\n",
    "my_file.write(str(45) + \"\\n\")\n",
    "my_file.write(str(83) + \"\\n\")\n",
    "my_file.write(str(21) + \"\\n\")\n",
    "\n",
    "my_file.close()"
   ]
  },
  {
   "cell_type": "code",
   "execution_count": 19,
   "metadata": {},
   "outputs": [
    {
     "name": "stdout",
     "output_type": "stream",
     "text": [
      "3\n",
      "45\n",
      "83\n",
      "21\n",
      "\n"
     ]
    }
   ],
   "source": [
    "with open(\"Numbers.txt\", \"r\") as a:\n",
    "    data = a.read()\n",
    "\n",
    "my_file.close()\n",
    "print(data)"
   ]
  },
  {
   "cell_type": "code",
   "execution_count": 20,
   "metadata": {},
   "outputs": [],
   "source": [
    "my_file = open(\"Numbers.txt\", \"a\")\n",
    "my_file.write(\"This is end of the line!\\n\")\n",
    "\n",
    "my_file.close()\n"
   ]
  },
  {
   "cell_type": "markdown",
   "metadata": {},
   "source": [
    "Task2\n",
    "Write a program to ask a student for their percentage mark and convert this to a grade.\n",
    "The conversion will be done in a function called mark_grade "
   ]
  },
  {
   "cell_type": "code",
   "execution_count": 28,
   "metadata": {},
   "outputs": [],
   "source": [
    "def mark_grade():\n",
    "    percentage_mark = float(input(\"Please enter your mark: \"))\n",
    "\n",
    "    if percentage_mark >= 70:\n",
    "        print(\"You achieved first class 1:1\")\n",
    "    elif percentage_mark >= 60 and percentage_mark < 70:\n",
    "        print(\"You achieved upper second class 2:1\")\n",
    "    elif percentage_mark >= 50 and percentage_mark < 60:\n",
    "        print(\"You achieved lower second class 2:2\")\n",
    "    elif percentage_mark >= 40 and percentage_mark < 50:\n",
    "        print(\"You achieved third class 3\")\n",
    "    elif percentage_mark >= 33 and percentage_mark < 40:\n",
    "        print(\"You have passed but no grade achieved\")\n",
    "    else:\n",
    "        print(\"Unfornunately you have failed, no grade achieved\")"
   ]
  },
  {
   "cell_type": "code",
   "execution_count": 29,
   "metadata": {},
   "outputs": [
    {
     "name": "stdout",
     "output_type": "stream",
     "text": [
      "You achieved first class 1:1\n",
      "You achieved upper second class 2:1\n",
      "You achieved lower second class 2:2\n",
      "You have passed but no grade achieved\n",
      "Unfornunately you have failed, no grade achieved\n",
      "You have passed but no grade achieved\n"
     ]
    }
   ],
   "source": [
    "for i in range(6):\n",
    "\n",
    "    mark_grade()"
   ]
  },
  {
   "cell_type": "markdown",
   "metadata": {},
   "source": [
    "Extension to Task 2\n",
    "Ask the user for their target grade and print this with their mark\n",
    "If their target grade > exam grade display a suitable message\n",
    "If their target grade = exam grade display a suitable message\n",
    "If their target grade < exam grade display a suitable message"
   ]
  },
  {
   "cell_type": "code",
   "execution_count": 2,
   "metadata": {},
   "outputs": [],
   "source": [
    "def mark_grade_t2():\n",
    "    percentage_mark = float(input(\"Please enter your mark: \"))\n",
    "    expected_grade = input(\"Please enter your expected grade: 1, 2:1, 2:2, 3, pass: \")\n",
    "\n",
    "    if percentage_mark >= 70:\n",
    "        value = \"1\"\n",
    "        print(\"You achieved first class, well done!\")\n",
    "    elif percentage_mark >= 60 and percentage_mark < 70:\n",
    "        value = \"2:1\"\n",
    "        print(\"You achieved upper second class\")\n",
    "    elif percentage_mark >= 50 and percentage_mark < 60:\n",
    "        value = \"2:2\"\n",
    "        print(\"You achieved lower second class\")\n",
    "    elif percentage_mark >= 40 and percentage_mark < 50:\n",
    "        value = \"3\"\n",
    "        print(\"You achieved third class\")\n",
    "    elif percentage_mark >= 33 and percentage_mark < 40:\n",
    "        value = \"pass\"\n",
    "        print(\"You have passed but no grade achieved\")\n",
    "    else:\n",
    "        print(\"Unfornunately you have failed, no grade achieved\")\n",
    "\n",
    "    message(expected_grade, value)\n",
    "    \n",
    "def message(expected_grade, value):\n",
    "    if expected_grade == value:\n",
    "        print(\"Congratulations! you received what you had predicted\")\n",
    "    elif expected_grade >= value:\n",
    "        print(\"Congratulations! you did better than predicted\")\n",
    "    else:\n",
    "        print(\"Unfortunately you did worse than predicted\")"
   ]
  },
  {
   "cell_type": "code",
   "execution_count": 3,
   "metadata": {},
   "outputs": [
    {
     "name": "stdout",
     "output_type": "stream",
     "text": [
      "You achieved first class, well done!\n",
      "Congratulations! you did better than predicted\n",
      "You achieved upper second class\n",
      "Unfortunately you did worse than predicted\n",
      "You achieved third class\n",
      "Congratulations! you received what you had predicted\n"
     ]
    }
   ],
   "source": [
    "for i in range(3):\n",
    "    mark_grade_t2()"
   ]
  }
 ],
 "metadata": {
  "interpreter": {
   "hash": "31f2aee4e71d21fbe5cf8b01ff0e069b9275f58929596ceb00d14d90e3e16cd6"
  },
  "kernelspec": {
   "display_name": "Python 3.8.9 64-bit",
   "language": "python",
   "name": "python3"
  },
  "language_info": {
   "codemirror_mode": {
    "name": "ipython",
    "version": 3
   },
   "file_extension": ".py",
   "mimetype": "text/x-python",
   "name": "python",
   "nbconvert_exporter": "python",
   "pygments_lexer": "ipython3",
   "version": "3.8.9"
  },
  "orig_nbformat": 4
 },
 "nbformat": 4,
 "nbformat_minor": 2
}
