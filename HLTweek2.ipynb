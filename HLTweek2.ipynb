{
 "cells": [
  {
   "cell_type": "code",
   "execution_count": 6,
   "metadata": {},
   "outputs": [
    {
     "name": "stdout",
     "output_type": "stream",
     "text": [
      "oh no, you got it wrong, it was not 7 it was: 4\n"
     ]
    }
   ],
   "source": [
    "import random\n",
    "rand_num = random.randint(1,10)\n",
    "name = input(\"what is your name?\")\n",
    "guess_number = int(input(\"Guess a number between 1 and 10\"))\n",
    "\n",
    "if rand_num == guess_number:\n",
    "    print(\"welldone! you got it correct\")\n",
    "\n",
    "else:\n",
    "    print(\"oh no, you got it wrong, it was not\", guess_number, \"it was:\", rand_num)"
   ]
  },
  {
   "cell_type": "markdown",
   "metadata": {},
   "source": [
    "Task2\n",
    "Write a program that asks a user for their favourite number between 1 and 100 and then tells them a joke based on the number. You should use a minimum of 3 jokes"
   ]
  },
  {
   "cell_type": "code",
   "execution_count": 18,
   "metadata": {},
   "outputs": [
    {
     "name": "stdout",
     "output_type": "stream",
     "text": [
      "In python 1+1 can be both 2 and 11 depends on the context.\n"
     ]
    }
   ],
   "source": [
    "a = int(input(\"Guess a number between 1 and 100\"))\n",
    "\n",
    "if a == 1:\n",
    "    print(\"The number is 1\")\n",
    "    print(\"Shhhhhh\")\n",
    "    print(\"Shhhhhh\")\n",
    "    print(\"Shhhhhh\")\n",
    "elif a == 2:\n",
    "    print(\"The number is 2\")\n",
    "    print(\"I love coding python but the name is scary\")\n",
    "elif a == 3:\n",
    "    print(\"number 3 for three chance\")\n",
    "    print(\"What!!!\")\n",
    "else:\n",
    "    print(\"In python 1+1 can be both 2 and 11 depends on the context.\")"
   ]
  },
  {
   "cell_type": "markdown",
   "metadata": {},
   "source": [
    "Task 3\n",
    "Write a program that allows user to enter their favourite starter, main course, dessert and drink.Concatenate these and output a message which says – “Your favourite meal is  ………with a glass of….”\n",
    "\n",
    "Solution\n",
    "1. Ask the user what their favourite starter is\n",
    "2. Ask the user what their favourite main is\n",
    "3. Ask the user what their favourite dessert is\n",
    "4. Ask the user what their favourite drink is\n",
    "5. Concatenate together the users input into a a string and print out"
   ]
  },
  {
   "cell_type": "code",
   "execution_count": 9,
   "metadata": {},
   "outputs": [
    {
     "name": "stdout",
     "output_type": "stream",
     "text": [
      "thats good\n",
      "you got it!\n",
      "straberry icecream\n",
      "i like lemondae\n",
      "your favorite meal is: onion , as starter; pizza as main dish choosed and vanila as your dessert, with pepsi as drink\n"
     ]
    }
   ],
   "source": [
    "starter = input(\"what is your favorite starter?\")\n",
    "if starter == \"samosa\":\n",
    "    print(\"good choice\")\n",
    "else:\n",
    "    print(\"thats good\")\n",
    "main = input(\"what is your favorite main\")\n",
    "if main == \"lamb curry\":\n",
    "    print(\"nice choice, do you like hot or medium\")\n",
    "else:\n",
    "    print(\"you got it!\")\n",
    "dessert = input(\"what is your favorite dessert\")\n",
    "if dessert == \"icecream\":\n",
    "    print(\"wow, do you mean vanila icecream\")\n",
    "else:\n",
    "    print(\"straberry icecream\")\n",
    "drink = input(\"what is your favorite drink\")\n",
    "if drink == \"coke\":\n",
    "    print(\"cold drinks! right\")\n",
    "else:\n",
    "    print(\"i like lemondae\")\n",
    "\n",
    "print(\"your favorite meal is:\", starter, \", as starter;\", main, \"as main dish choosed and\", dessert, \"as your dessert, with\", drink, \"as drink\")"
   ]
  },
  {
   "cell_type": "markdown",
   "metadata": {},
   "source": [
    "Task 4\n",
    "A motorbike costs £2000 and loses 10% of its value every year. Using a loop, print the value of the bike every following year until it falls below £1000."
   ]
  },
  {
   "cell_type": "code",
   "execution_count": 1,
   "metadata": {},
   "outputs": [
    {
     "name": "stdout",
     "output_type": "stream",
     "text": [
      "The bike is worth: 2000\n",
      "The bike is worth: 1800.0\n",
      "The bike is worth: 1620.0\n",
      "The bike is worth: 1458.0\n",
      "The bike is worth: 1312.2\n",
      "The bike is worth: 1180.98\n",
      "The bike is worth: 1062.882\n"
     ]
    }
   ],
   "source": [
    "bike_value = 2000\n",
    "\n",
    "while bike_value > 1000:\n",
    "    print(\"The bike is worth:\", bike_value)\n",
    "    bike_value *= 0.9"
   ]
  },
  {
   "cell_type": "markdown",
   "metadata": {},
   "source": [
    "Task 5\n",
    "Write a program which will ask for two numbers from a user. Then offer a menu to the user giving them a choice of operator:e.g. – Enter “a” if you want to add“b” if you want to subtract.\n",
    "Include +, -, /, *, ** square (to the power of). Once the user has selected which operator they wish to use, perform the calculation."
   ]
  },
  {
   "cell_type": "code",
   "execution_count": 11,
   "metadata": {},
   "outputs": [
    {
     "name": "stdout",
     "output_type": "stream",
     "text": [
      "an appropriate operator was not selected\n"
     ]
    }
   ],
   "source": [
    "num1 = input(\"choose a number:\")\n",
    "num2 = input(\"choose a number:\")\n",
    "operator = input(\"pick an operator:\")\n",
    "sign = operator\n",
    "if sign == \"plus\":\n",
    "    sum = int(num1)+int(num2)\n",
    "    print(sum)\n",
    "elif sign == \"minus\":\n",
    "    sub = int(num1)-int(num2)\n",
    "    print(sub)\n",
    "elif sign == \"divison\":\n",
    "    div = int(num1)/int(num2)\n",
    "    print(div)\n",
    "elif sign == \"multiplication\":\n",
    "    multi = int(num1)*int(num2)\n",
    "    print(multi)\n",
    "else:\n",
    "    print(\"an appropriate operator was not selected\")"
   ]
  }
 ],
 "metadata": {
  "interpreter": {
   "hash": "31f2aee4e71d21fbe5cf8b01ff0e069b9275f58929596ceb00d14d90e3e16cd6"
  },
  "kernelspec": {
   "display_name": "Python 3.8.9 64-bit",
   "language": "python",
   "name": "python3"
  },
  "language_info": {
   "codemirror_mode": {
    "name": "ipython",
    "version": 3
   },
   "file_extension": ".py",
   "mimetype": "text/x-python",
   "name": "python",
   "nbconvert_exporter": "python",
   "pygments_lexer": "ipython3",
   "version": "3.9.7"
  },
  "orig_nbformat": 4
 },
 "nbformat": 4,
 "nbformat_minor": 2
}
