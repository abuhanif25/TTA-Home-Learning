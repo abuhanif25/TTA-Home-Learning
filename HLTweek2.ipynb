{
 "cells": [
  {
   "cell_type": "markdown",
   "metadata": {},
   "source": [
    "Task 2\n",
    "As an extension to the motorbike task that costs £2000 and loses 10% of its value every year. Set up a function that performs the calculation by passing in parameters. Then using a loop, print the value of the bike every following year until it falls below £1000."
   ]
  },
  {
   "cell_type": "code",
   "execution_count": 2,
   "metadata": {},
   "outputs": [
    {
     "name": "stdout",
     "output_type": "stream",
     "text": [
      "the motor bike cost 2000.00\n",
      "the motor bike cost 1800.00\n",
      "the motor bike cost 1620.00\n",
      "the motor bike cost 1458.00\n",
      "the motor bike cost 1312.20\n",
      "the motor bike cost 1180.98\n",
      "the motor bike cost 1062.88\n"
     ]
    }
   ],
   "source": [
    "def dep_function (bike_value, depreciationPercent):\n",
    "\n",
    "    while bike_value > 1000:\n",
    "        print(f\"the motor bike cost {bike_value:.2f}\")\n",
    "        bike_value *=((100-depreciationPercent)/100)\n",
    "\n",
    "bike_value, depreciationPercent = 2000, 10\n",
    "dep_function(bike_value, depreciationPercent)"
   ]
  },
  {
   "cell_type": "markdown",
   "metadata": {},
   "source": [
    "Task 3\n",
    "Write a program which will ask for two numbers from a user. Then offer an option menu to the user giving them a choice of maths operators. Once the user has selected which operator they wish to use, perform the calculation by using a procedure and passing parameters."
   ]
  },
  {
   "cell_type": "code",
   "execution_count": 9,
   "metadata": {},
   "outputs": [
    {
     "data": {
      "text/plain": [
       "<function __main__.calculator_function()>"
      ]
     },
     "execution_count": 9,
     "metadata": {},
     "output_type": "execute_result"
    }
   ],
   "source": [
    "def calculator_function():\n",
    "    num1 = int(input(\"Please enter an ODD number\"))\n",
    "    num2 = int(input(\"Please enter an EVEN number\"))\n",
    "    operation = input(\"Please enter + to ADD or - to SUBSTRUCT or / to DIVIDE or * to MULTIPLY or % to PERCENT or q to QUIT\")\n",
    "\n",
    "def calculate (num1, num2, operation):\n",
    "    if operation == \"+\":\n",
    "        sum = int(num1)+int(num2)\n",
    "        print(sum)\n",
    "    elif operation == \"-\":\n",
    "        sub = int(num1)-int(num2)\n",
    "        print(sub)\n",
    "    else:\n",
    "        print(\"An appropriate operator was not selected\")"
   ]
  },
  {
   "cell_type": "code",
   "execution_count": 13,
   "metadata": {},
   "outputs": [],
   "source": [
    "calculator_function()"
   ]
  }
 ],
 "metadata": {
  "interpreter": {
   "hash": "31f2aee4e71d21fbe5cf8b01ff0e069b9275f58929596ceb00d14d90e3e16cd6"
  },
  "kernelspec": {
   "display_name": "Python 3.8.9 64-bit",
   "language": "python",
   "name": "python3"
  },
  "language_info": {
   "codemirror_mode": {
    "name": "ipython",
    "version": 3
   },
   "file_extension": ".py",
   "mimetype": "text/x-python",
   "name": "python",
   "nbconvert_exporter": "python",
   "pygments_lexer": "ipython3",
   "version": "3.9.7"
  },
  "orig_nbformat": 4
 },
 "nbformat": 4,
 "nbformat_minor": 2
}
