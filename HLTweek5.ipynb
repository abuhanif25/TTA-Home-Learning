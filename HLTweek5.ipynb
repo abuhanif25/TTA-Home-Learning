{
 "cells": [
  {
   "cell_type": "markdown",
   "metadata": {},
   "source": [
    "Task1 : Create a CSV file of 15 holiday destinations for a website\n",
    "1. Add in a column of destinations\n",
    "2. Add in a column that shows feedback score out of 10 for that\n",
    "destination\n",
    "3. Add in a column for average hotel star rating for those\n",
    "destinations\n",
    "4. Add in a column for number of all-inclusive hotels within each\n",
    "destination\n",
    "5. Add in the most visited city in each destination"
   ]
  },
  {
   "cell_type": "code",
   "execution_count": 1,
   "metadata": {},
   "outputs": [],
   "source": [
    "import pandas as pd"
   ]
  },
  {
   "cell_type": "code",
   "execution_count": 23,
   "metadata": {},
   "outputs": [
    {
     "name": "stdout",
     "output_type": "stream",
     "text": [
      "    ID Destinations  Feedback_score  Hotel_rating  All_inclusive_hotels  \\\n",
      "0    1        Spain               9             6                    10   \n",
      "1    2       Turkey               8             7                     7   \n",
      "2    3       Greece               6             5                     6   \n",
      "3    4       France               9             8                    11   \n",
      "4    5        Italy               5             5                     8   \n",
      "5    6     Thailand               9             4                    12   \n",
      "6    7       Brazil               7             6                    12   \n",
      "7    8          USA               9             8                     8   \n",
      "8    9           UK               9             9                    15   \n",
      "9   10       Mexico               7             5                     8   \n",
      "10  11      Croatia               8             6                     5   \n",
      "11  12     Portugal               5             7                     4   \n",
      "12  13      Hungray               7             6                     8   \n",
      "13  14      Austria               8             4                    10   \n",
      "14  15        Swiss               9             9                     9   \n",
      "\n",
      "   Most_visited_city  \n",
      "0          Barcelona  \n",
      "1            Antalya  \n",
      "2          Santorini  \n",
      "3               Nice  \n",
      "4             Venice  \n",
      "5             Phuket  \n",
      "6                Rio  \n",
      "7           New York  \n",
      "8             London  \n",
      "9             Cancun  \n",
      "10            Zagreb  \n",
      "11             Porto  \n",
      "12         Budhapest  \n",
      "13            Vienna  \n",
      "14            Zurich  \n"
     ]
    }
   ],
   "source": [
    "holiday_desti = pd.read_csv(\"holiday.csv\")\n",
    "\n",
    "print(holiday_desti)"
   ]
  },
  {
   "cell_type": "markdown",
   "metadata": {},
   "source": [
    "Task2 : \n",
    "1. How many rows and columns are there in your file?\n",
    "2. Print row 3-8 ( using iloc/loc).\n",
    "3. Find the mean number of all-inclusive hotels across all destinations.\n",
    "4. Find the lowest scoring destination.\n",
    "5. Find the highest scoring destination.\n",
    "6. Find all the destinations where there are more than 9 all-inclusive hotels.\n",
    "7. Filter the data by score above 8.\n",
    "8. Filter the data score below 2 ( I need to know if these destinations should be removed or there is a problem)"
   ]
  },
  {
   "cell_type": "code",
   "execution_count": 24,
   "metadata": {},
   "outputs": [
    {
     "data": {
      "text/plain": [
       "(15, 6)"
      ]
     },
     "execution_count": 24,
     "metadata": {},
     "output_type": "execute_result"
    }
   ],
   "source": [
    "# How many rows and columns are there in your file?\n",
    "\n",
    "holiday_desti.shape"
   ]
  },
  {
   "cell_type": "code",
   "execution_count": 25,
   "metadata": {},
   "outputs": [
    {
     "data": {
      "text/html": [
       "<div>\n",
       "<style scoped>\n",
       "    .dataframe tbody tr th:only-of-type {\n",
       "        vertical-align: middle;\n",
       "    }\n",
       "\n",
       "    .dataframe tbody tr th {\n",
       "        vertical-align: top;\n",
       "    }\n",
       "\n",
       "    .dataframe thead th {\n",
       "        text-align: right;\n",
       "    }\n",
       "</style>\n",
       "<table border=\"1\" class=\"dataframe\">\n",
       "  <thead>\n",
       "    <tr style=\"text-align: right;\">\n",
       "      <th></th>\n",
       "      <th>ID</th>\n",
       "      <th>Destinations</th>\n",
       "      <th>Feedback_score</th>\n",
       "      <th>Hotel_rating</th>\n",
       "      <th>All_inclusive_hotels</th>\n",
       "      <th>Most_visited_city</th>\n",
       "    </tr>\n",
       "  </thead>\n",
       "  <tbody>\n",
       "    <tr>\n",
       "      <th>2</th>\n",
       "      <td>3</td>\n",
       "      <td>Greece</td>\n",
       "      <td>6</td>\n",
       "      <td>5</td>\n",
       "      <td>6</td>\n",
       "      <td>Santorini</td>\n",
       "    </tr>\n",
       "    <tr>\n",
       "      <th>3</th>\n",
       "      <td>4</td>\n",
       "      <td>France</td>\n",
       "      <td>9</td>\n",
       "      <td>8</td>\n",
       "      <td>11</td>\n",
       "      <td>Nice</td>\n",
       "    </tr>\n",
       "    <tr>\n",
       "      <th>4</th>\n",
       "      <td>5</td>\n",
       "      <td>Italy</td>\n",
       "      <td>5</td>\n",
       "      <td>5</td>\n",
       "      <td>8</td>\n",
       "      <td>Venice</td>\n",
       "    </tr>\n",
       "    <tr>\n",
       "      <th>5</th>\n",
       "      <td>6</td>\n",
       "      <td>Thailand</td>\n",
       "      <td>9</td>\n",
       "      <td>4</td>\n",
       "      <td>12</td>\n",
       "      <td>Phuket</td>\n",
       "    </tr>\n",
       "    <tr>\n",
       "      <th>6</th>\n",
       "      <td>7</td>\n",
       "      <td>Brazil</td>\n",
       "      <td>7</td>\n",
       "      <td>6</td>\n",
       "      <td>12</td>\n",
       "      <td>Rio</td>\n",
       "    </tr>\n",
       "    <tr>\n",
       "      <th>7</th>\n",
       "      <td>8</td>\n",
       "      <td>USA</td>\n",
       "      <td>9</td>\n",
       "      <td>8</td>\n",
       "      <td>8</td>\n",
       "      <td>New York</td>\n",
       "    </tr>\n",
       "  </tbody>\n",
       "</table>\n",
       "</div>"
      ],
      "text/plain": [
       "   ID Destinations  Feedback_score  Hotel_rating  All_inclusive_hotels  \\\n",
       "2   3       Greece               6             5                     6   \n",
       "3   4       France               9             8                    11   \n",
       "4   5        Italy               5             5                     8   \n",
       "5   6     Thailand               9             4                    12   \n",
       "6   7       Brazil               7             6                    12   \n",
       "7   8          USA               9             8                     8   \n",
       "\n",
       "  Most_visited_city  \n",
       "2         Santorini  \n",
       "3              Nice  \n",
       "4            Venice  \n",
       "5            Phuket  \n",
       "6               Rio  \n",
       "7          New York  "
      ]
     },
     "execution_count": 25,
     "metadata": {},
     "output_type": "execute_result"
    }
   ],
   "source": [
    "# Print row 3-8 ( using iloc/loc)\n",
    "\n",
    "holiday_desti.iloc[2:8]"
   ]
  },
  {
   "cell_type": "code",
   "execution_count": 27,
   "metadata": {},
   "outputs": [
    {
     "name": "stdout",
     "output_type": "stream",
     "text": [
      "The Mean number of all inclusive hotels in the datafram is: \n"
     ]
    },
    {
     "data": {
      "text/plain": [
       "8.866666666666667"
      ]
     },
     "execution_count": 27,
     "metadata": {},
     "output_type": "execute_result"
    }
   ],
   "source": [
    "# Find the mean number of all-inclusive hotels across all destinations.\n",
    "\n",
    "print(\"The Mean number of all inclusive hotels in the datafram is: \")\n",
    "holiday_desti[\"All_inclusive_hotels\"].mean()"
   ]
  },
  {
   "cell_type": "code",
   "execution_count": 41,
   "metadata": {},
   "outputs": [
    {
     "name": "stdout",
     "output_type": "stream",
     "text": [
      "The destination with the lowest score are: \n"
     ]
    },
    {
     "data": {
      "text/html": [
       "<div>\n",
       "<style scoped>\n",
       "    .dataframe tbody tr th:only-of-type {\n",
       "        vertical-align: middle;\n",
       "    }\n",
       "\n",
       "    .dataframe tbody tr th {\n",
       "        vertical-align: top;\n",
       "    }\n",
       "\n",
       "    .dataframe thead th {\n",
       "        text-align: right;\n",
       "    }\n",
       "</style>\n",
       "<table border=\"1\" class=\"dataframe\">\n",
       "  <thead>\n",
       "    <tr style=\"text-align: right;\">\n",
       "      <th></th>\n",
       "      <th>ID</th>\n",
       "      <th>Destinations</th>\n",
       "      <th>Feedback_score</th>\n",
       "      <th>Hotel_rating</th>\n",
       "      <th>All_inclusive_hotels</th>\n",
       "      <th>Most_visited_city</th>\n",
       "    </tr>\n",
       "  </thead>\n",
       "  <tbody>\n",
       "    <tr>\n",
       "      <th>2</th>\n",
       "      <td>3</td>\n",
       "      <td>Greece</td>\n",
       "      <td>6</td>\n",
       "      <td>5</td>\n",
       "      <td>6</td>\n",
       "      <td>Santorini</td>\n",
       "    </tr>\n",
       "    <tr>\n",
       "      <th>4</th>\n",
       "      <td>5</td>\n",
       "      <td>Italy</td>\n",
       "      <td>5</td>\n",
       "      <td>5</td>\n",
       "      <td>8</td>\n",
       "      <td>Venice</td>\n",
       "    </tr>\n",
       "    <tr>\n",
       "      <th>6</th>\n",
       "      <td>7</td>\n",
       "      <td>Brazil</td>\n",
       "      <td>7</td>\n",
       "      <td>6</td>\n",
       "      <td>12</td>\n",
       "      <td>Rio</td>\n",
       "    </tr>\n",
       "    <tr>\n",
       "      <th>9</th>\n",
       "      <td>10</td>\n",
       "      <td>Mexico</td>\n",
       "      <td>7</td>\n",
       "      <td>5</td>\n",
       "      <td>8</td>\n",
       "      <td>Cancun</td>\n",
       "    </tr>\n",
       "    <tr>\n",
       "      <th>11</th>\n",
       "      <td>12</td>\n",
       "      <td>Portugal</td>\n",
       "      <td>5</td>\n",
       "      <td>7</td>\n",
       "      <td>4</td>\n",
       "      <td>Porto</td>\n",
       "    </tr>\n",
       "  </tbody>\n",
       "</table>\n",
       "</div>"
      ],
      "text/plain": [
       "    ID Destinations  Feedback_score  Hotel_rating  All_inclusive_hotels  \\\n",
       "2    3       Greece               6             5                     6   \n",
       "4    5        Italy               5             5                     8   \n",
       "6    7       Brazil               7             6                    12   \n",
       "9   10       Mexico               7             5                     8   \n",
       "11  12     Portugal               5             7                     4   \n",
       "\n",
       "   Most_visited_city  \n",
       "2          Santorini  \n",
       "4             Venice  \n",
       "6                Rio  \n",
       "9             Cancun  \n",
       "11             Porto  "
      ]
     },
     "execution_count": 41,
     "metadata": {},
     "output_type": "execute_result"
    }
   ],
   "source": [
    "# Find the lowest scoring destination.\n",
    "\n",
    "holiday_desti[\"Feedback_score\"].mean()\n",
    "\n",
    "# Average lowest destinations are 7.66\n",
    "\n",
    "myfilter = holiday_desti[\"Feedback_score\"] < 7.66\n",
    "lowest_score = holiday_desti[myfilter]\n",
    "\n",
    "print(\"The destination with the lowest score are: \")\n",
    "lowest_score.head(5)\n"
   ]
  },
  {
   "cell_type": "code",
   "execution_count": 42,
   "metadata": {},
   "outputs": [
    {
     "name": "stdout",
     "output_type": "stream",
     "text": [
      "The destination with the Highest score are: \n"
     ]
    },
    {
     "data": {
      "text/html": [
       "<div>\n",
       "<style scoped>\n",
       "    .dataframe tbody tr th:only-of-type {\n",
       "        vertical-align: middle;\n",
       "    }\n",
       "\n",
       "    .dataframe tbody tr th {\n",
       "        vertical-align: top;\n",
       "    }\n",
       "\n",
       "    .dataframe thead th {\n",
       "        text-align: right;\n",
       "    }\n",
       "</style>\n",
       "<table border=\"1\" class=\"dataframe\">\n",
       "  <thead>\n",
       "    <tr style=\"text-align: right;\">\n",
       "      <th></th>\n",
       "      <th>ID</th>\n",
       "      <th>Destinations</th>\n",
       "      <th>Feedback_score</th>\n",
       "      <th>Hotel_rating</th>\n",
       "      <th>All_inclusive_hotels</th>\n",
       "      <th>Most_visited_city</th>\n",
       "    </tr>\n",
       "  </thead>\n",
       "  <tbody>\n",
       "    <tr>\n",
       "      <th>0</th>\n",
       "      <td>1</td>\n",
       "      <td>Spain</td>\n",
       "      <td>9</td>\n",
       "      <td>6</td>\n",
       "      <td>10</td>\n",
       "      <td>Barcelona</td>\n",
       "    </tr>\n",
       "    <tr>\n",
       "      <th>1</th>\n",
       "      <td>2</td>\n",
       "      <td>Turkey</td>\n",
       "      <td>8</td>\n",
       "      <td>7</td>\n",
       "      <td>7</td>\n",
       "      <td>Antalya</td>\n",
       "    </tr>\n",
       "    <tr>\n",
       "      <th>3</th>\n",
       "      <td>4</td>\n",
       "      <td>France</td>\n",
       "      <td>9</td>\n",
       "      <td>8</td>\n",
       "      <td>11</td>\n",
       "      <td>Nice</td>\n",
       "    </tr>\n",
       "    <tr>\n",
       "      <th>5</th>\n",
       "      <td>6</td>\n",
       "      <td>Thailand</td>\n",
       "      <td>9</td>\n",
       "      <td>4</td>\n",
       "      <td>12</td>\n",
       "      <td>Phuket</td>\n",
       "    </tr>\n",
       "    <tr>\n",
       "      <th>7</th>\n",
       "      <td>8</td>\n",
       "      <td>USA</td>\n",
       "      <td>9</td>\n",
       "      <td>8</td>\n",
       "      <td>8</td>\n",
       "      <td>New York</td>\n",
       "    </tr>\n",
       "  </tbody>\n",
       "</table>\n",
       "</div>"
      ],
      "text/plain": [
       "   ID Destinations  Feedback_score  Hotel_rating  All_inclusive_hotels  \\\n",
       "0   1        Spain               9             6                    10   \n",
       "1   2       Turkey               8             7                     7   \n",
       "3   4       France               9             8                    11   \n",
       "5   6     Thailand               9             4                    12   \n",
       "7   8          USA               9             8                     8   \n",
       "\n",
       "  Most_visited_city  \n",
       "0         Barcelona  \n",
       "1           Antalya  \n",
       "3              Nice  \n",
       "5            Phuket  \n",
       "7          New York  "
      ]
     },
     "execution_count": 42,
     "metadata": {},
     "output_type": "execute_result"
    }
   ],
   "source": [
    "# Find the Highest scoring destination.\n",
    "\n",
    "holiday_desti[\"Feedback_score\"].mean()\n",
    "\n",
    "# Average lowest destinations are 7.66\n",
    "\n",
    "myfilter = holiday_desti[\"Feedback_score\"] > 7.66\n",
    "highest_score = holiday_desti[myfilter]\n",
    "\n",
    "print(\"The destination with the Highest score are: \")\n",
    "highest_score.head(5)\n"
   ]
  },
  {
   "cell_type": "code",
   "execution_count": 34,
   "metadata": {},
   "outputs": [
    {
     "name": "stdout",
     "output_type": "stream",
     "text": [
      "The destinations with more than 9 all-inclusive hotels are: \n"
     ]
    },
    {
     "data": {
      "text/html": [
       "<div>\n",
       "<style scoped>\n",
       "    .dataframe tbody tr th:only-of-type {\n",
       "        vertical-align: middle;\n",
       "    }\n",
       "\n",
       "    .dataframe tbody tr th {\n",
       "        vertical-align: top;\n",
       "    }\n",
       "\n",
       "    .dataframe thead th {\n",
       "        text-align: right;\n",
       "    }\n",
       "</style>\n",
       "<table border=\"1\" class=\"dataframe\">\n",
       "  <thead>\n",
       "    <tr style=\"text-align: right;\">\n",
       "      <th></th>\n",
       "      <th>ID</th>\n",
       "      <th>Destinations</th>\n",
       "      <th>Feedback_score</th>\n",
       "      <th>Hotel_rating</th>\n",
       "      <th>All_inclusive_hotels</th>\n",
       "      <th>Most_visited_city</th>\n",
       "    </tr>\n",
       "  </thead>\n",
       "  <tbody>\n",
       "    <tr>\n",
       "      <th>0</th>\n",
       "      <td>1</td>\n",
       "      <td>Spain</td>\n",
       "      <td>9</td>\n",
       "      <td>6</td>\n",
       "      <td>10</td>\n",
       "      <td>Barcelona</td>\n",
       "    </tr>\n",
       "    <tr>\n",
       "      <th>3</th>\n",
       "      <td>4</td>\n",
       "      <td>France</td>\n",
       "      <td>9</td>\n",
       "      <td>8</td>\n",
       "      <td>11</td>\n",
       "      <td>Nice</td>\n",
       "    </tr>\n",
       "    <tr>\n",
       "      <th>5</th>\n",
       "      <td>6</td>\n",
       "      <td>Thailand</td>\n",
       "      <td>9</td>\n",
       "      <td>4</td>\n",
       "      <td>12</td>\n",
       "      <td>Phuket</td>\n",
       "    </tr>\n",
       "    <tr>\n",
       "      <th>6</th>\n",
       "      <td>7</td>\n",
       "      <td>Brazil</td>\n",
       "      <td>7</td>\n",
       "      <td>6</td>\n",
       "      <td>12</td>\n",
       "      <td>Rio</td>\n",
       "    </tr>\n",
       "    <tr>\n",
       "      <th>8</th>\n",
       "      <td>9</td>\n",
       "      <td>UK</td>\n",
       "      <td>9</td>\n",
       "      <td>9</td>\n",
       "      <td>15</td>\n",
       "      <td>London</td>\n",
       "    </tr>\n",
       "    <tr>\n",
       "      <th>13</th>\n",
       "      <td>14</td>\n",
       "      <td>Austria</td>\n",
       "      <td>8</td>\n",
       "      <td>4</td>\n",
       "      <td>10</td>\n",
       "      <td>Vienna</td>\n",
       "    </tr>\n",
       "  </tbody>\n",
       "</table>\n",
       "</div>"
      ],
      "text/plain": [
       "    ID Destinations  Feedback_score  Hotel_rating  All_inclusive_hotels  \\\n",
       "0    1        Spain               9             6                    10   \n",
       "3    4       France               9             8                    11   \n",
       "5    6     Thailand               9             4                    12   \n",
       "6    7       Brazil               7             6                    12   \n",
       "8    9           UK               9             9                    15   \n",
       "13  14      Austria               8             4                    10   \n",
       "\n",
       "   Most_visited_city  \n",
       "0          Barcelona  \n",
       "3               Nice  \n",
       "5             Phuket  \n",
       "6                Rio  \n",
       "8             London  \n",
       "13            Vienna  "
      ]
     },
     "execution_count": 34,
     "metadata": {},
     "output_type": "execute_result"
    }
   ],
   "source": [
    "# Find all the destinations where there are more than 9 all-inclusive hotels. \n",
    "\n",
    "myfilter = holiday_desti[\"All_inclusive_hotels\"] > 9\n",
    "\n",
    "hotel = holiday_desti[myfilter]\n",
    "\n",
    "print(\"The destinations with more than 9 all-inclusive hotels are: \")\n",
    "hotel"
   ]
  },
  {
   "cell_type": "code",
   "execution_count": 43,
   "metadata": {},
   "outputs": [
    {
     "name": "stdout",
     "output_type": "stream",
     "text": [
      "The destination with score above 8 are: \n"
     ]
    },
    {
     "data": {
      "text/html": [
       "<div>\n",
       "<style scoped>\n",
       "    .dataframe tbody tr th:only-of-type {\n",
       "        vertical-align: middle;\n",
       "    }\n",
       "\n",
       "    .dataframe tbody tr th {\n",
       "        vertical-align: top;\n",
       "    }\n",
       "\n",
       "    .dataframe thead th {\n",
       "        text-align: right;\n",
       "    }\n",
       "</style>\n",
       "<table border=\"1\" class=\"dataframe\">\n",
       "  <thead>\n",
       "    <tr style=\"text-align: right;\">\n",
       "      <th></th>\n",
       "      <th>ID</th>\n",
       "      <th>Destinations</th>\n",
       "      <th>Feedback_score</th>\n",
       "      <th>Hotel_rating</th>\n",
       "      <th>All_inclusive_hotels</th>\n",
       "      <th>Most_visited_city</th>\n",
       "    </tr>\n",
       "  </thead>\n",
       "  <tbody>\n",
       "    <tr>\n",
       "      <th>0</th>\n",
       "      <td>1</td>\n",
       "      <td>Spain</td>\n",
       "      <td>9</td>\n",
       "      <td>6</td>\n",
       "      <td>10</td>\n",
       "      <td>Barcelona</td>\n",
       "    </tr>\n",
       "    <tr>\n",
       "      <th>3</th>\n",
       "      <td>4</td>\n",
       "      <td>France</td>\n",
       "      <td>9</td>\n",
       "      <td>8</td>\n",
       "      <td>11</td>\n",
       "      <td>Nice</td>\n",
       "    </tr>\n",
       "    <tr>\n",
       "      <th>5</th>\n",
       "      <td>6</td>\n",
       "      <td>Thailand</td>\n",
       "      <td>9</td>\n",
       "      <td>4</td>\n",
       "      <td>12</td>\n",
       "      <td>Phuket</td>\n",
       "    </tr>\n",
       "    <tr>\n",
       "      <th>7</th>\n",
       "      <td>8</td>\n",
       "      <td>USA</td>\n",
       "      <td>9</td>\n",
       "      <td>8</td>\n",
       "      <td>8</td>\n",
       "      <td>New York</td>\n",
       "    </tr>\n",
       "    <tr>\n",
       "      <th>8</th>\n",
       "      <td>9</td>\n",
       "      <td>UK</td>\n",
       "      <td>9</td>\n",
       "      <td>9</td>\n",
       "      <td>15</td>\n",
       "      <td>London</td>\n",
       "    </tr>\n",
       "  </tbody>\n",
       "</table>\n",
       "</div>"
      ],
      "text/plain": [
       "   ID Destinations  Feedback_score  Hotel_rating  All_inclusive_hotels  \\\n",
       "0   1        Spain               9             6                    10   \n",
       "3   4       France               9             8                    11   \n",
       "5   6     Thailand               9             4                    12   \n",
       "7   8          USA               9             8                     8   \n",
       "8   9           UK               9             9                    15   \n",
       "\n",
       "  Most_visited_city  \n",
       "0         Barcelona  \n",
       "3              Nice  \n",
       "5            Phuket  \n",
       "7          New York  \n",
       "8            London  "
      ]
     },
     "execution_count": 43,
     "metadata": {},
     "output_type": "execute_result"
    }
   ],
   "source": [
    "# Filter the data by score above 8\n",
    "\n",
    "myfilter = holiday_desti[\"Feedback_score\"] > 8\n",
    "highest_score = holiday_desti[myfilter]\n",
    "\n",
    "print(\"The destination with score above 8 are: \")\n",
    "highest_score.head()\n"
   ]
  },
  {
   "cell_type": "code",
   "execution_count": 45,
   "metadata": {},
   "outputs": [
    {
     "name": "stdout",
     "output_type": "stream",
     "text": [
      "The destination with score below 2 are: \n"
     ]
    },
    {
     "data": {
      "text/html": [
       "<div>\n",
       "<style scoped>\n",
       "    .dataframe tbody tr th:only-of-type {\n",
       "        vertical-align: middle;\n",
       "    }\n",
       "\n",
       "    .dataframe tbody tr th {\n",
       "        vertical-align: top;\n",
       "    }\n",
       "\n",
       "    .dataframe thead th {\n",
       "        text-align: right;\n",
       "    }\n",
       "</style>\n",
       "<table border=\"1\" class=\"dataframe\">\n",
       "  <thead>\n",
       "    <tr style=\"text-align: right;\">\n",
       "      <th></th>\n",
       "      <th>ID</th>\n",
       "      <th>Destinations</th>\n",
       "      <th>Feedback_score</th>\n",
       "      <th>Hotel_rating</th>\n",
       "      <th>All_inclusive_hotels</th>\n",
       "      <th>Most_visited_city</th>\n",
       "    </tr>\n",
       "  </thead>\n",
       "  <tbody>\n",
       "  </tbody>\n",
       "</table>\n",
       "</div>"
      ],
      "text/plain": [
       "Empty DataFrame\n",
       "Columns: [ID, Destinations, Feedback_score, Hotel_rating, All_inclusive_hotels, Most_visited_city]\n",
       "Index: []"
      ]
     },
     "execution_count": 45,
     "metadata": {},
     "output_type": "execute_result"
    }
   ],
   "source": [
    "# Filter the data by score below 2\n",
    "\n",
    "myfilter = holiday_desti[\"Feedback_score\"] < 2\n",
    "lowest_score = holiday_desti[myfilter]\n",
    "\n",
    "print(\"The destination with score below 2 are: \")\n",
    "lowest_score.head()"
   ]
  },
  {
   "cell_type": "code",
   "execution_count": 46,
   "metadata": {},
   "outputs": [
    {
     "data": {
      "text/plain": [
       "0.567215795689658"
      ]
     },
     "execution_count": 46,
     "metadata": {},
     "output_type": "execute_result"
    }
   ],
   "source": [
    "# Task EXT 1 # Is there a correlation between number of all-inclusive hotels and score?\n",
    "\n",
    "column_1 = holiday_desti[\"All_inclusive_hotels\"]\n",
    "column_2 = holiday_desti[\"Feedback_score\"]\n",
    "\n",
    "correlation = column_1.corr(column_2)\n",
    "\n",
    "correlation"
   ]
  },
  {
   "cell_type": "code",
   "execution_count": 47,
   "metadata": {},
   "outputs": [],
   "source": [
    "import matplotlib.pyplot as plt"
   ]
  },
  {
   "cell_type": "code",
   "execution_count": 48,
   "metadata": {},
   "outputs": [
    {
     "data": {
      "image/png": "[encoded data removed]",
      "text/plain": [
       "<Figure size 432x288 with 1 Axes>"
      ]
     },
     "metadata": {
      "needs_background": "light"
     },
     "output_type": "display_data"
    }
   ],
   "source": [
    "# Task EXT 2 # Create a data visualisation diagram to show destination and highest scores?\n",
    "\n",
    "holiday_desti.plot(kind = 'bar', x = 'Destinations', y = ['Feedback_score'])\n",
    "plt.show()"
   ]
  }
 ],
 "metadata": {
  "interpreter": {
   "hash": "a45a58304b3e5105763629c01970ea90bd3f77a21e2d3e6a31c0614e1a3e0938"
  },
  "kernelspec": {
   "display_name": "Python 3.9.7 ('base')",
   "language": "python",
   "name": "python3"
  },
  "language_info": {
   "codemirror_mode": {
    "name": "ipython",
    "version": 3
   },
   "file_extension": ".py",
   "mimetype": "text/x-python",
   "name": "python",
   "nbconvert_exporter": "python",
   "pygments_lexer": "ipython3",
   "version": "3.9.7"
  },
  "orig_nbformat": 4
 },
 "nbformat": 4,
 "nbformat_minor": 2
}
