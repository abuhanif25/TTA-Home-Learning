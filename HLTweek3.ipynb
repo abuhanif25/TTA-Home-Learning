{
 "cells": [
  {
   "cell_type": "markdown",
   "metadata": {},
   "source": [
    "Task 2\n",
    "As an extension to the motorbike task that costs £2000 and loses 10% of its value every year. Set up a function that performs the calculation by passing in parameters. Then using a loop, print the value of the bike every following year until it falls below £1000."
   ]
  },
  {
   "cell_type": "code",
   "execution_count": 2,
   "metadata": {},
   "outputs": [
    {
     "name": "stdout",
     "output_type": "stream",
     "text": [
      "the motor bike cost 2000.00\n",
      "the motor bike cost 1800.00\n",
      "the motor bike cost 1620.00\n",
      "the motor bike cost 1458.00\n",
      "the motor bike cost 1312.20\n",
      "the motor bike cost 1180.98\n",
      "the motor bike cost 1062.88\n"
     ]
    }
   ],
   "source": [
    "def dep_function (bike_value, depreciationPercent):\n",
    "\n",
    "    while bike_value > 1000:\n",
    "        print(f\"the motor bike cost {bike_value:.2f}\")\n",
    "        bike_value *=((100-depreciationPercent)/100)\n",
    "\n",
    "bike_value, depreciationPercent = 2000, 10\n",
    "dep_function(bike_value, depreciationPercent)"
   ]
  },
  {
   "cell_type": "markdown",
   "metadata": {},
   "source": [
    "Task 3\n",
    "Write a program which will ask for two numbers from a user. Then offer an option menu to the user giving them a choice of maths operators. Once the user has selected which operator they wish to use, perform the calculation by using a procedure and passing parameters."
   ]
  },
  {
   "cell_type": "code",
   "execution_count": 7,
   "metadata": {},
   "outputs": [],
   "source": [
    "def calculator(num_1,num_2):\n",
    "    menuOption = input(\"Please type the operator you require, a to add, b to subtract, m to multiply, d to divide, e to the power of\")\n",
    "\n",
    "    if menuOption == \"a\":\n",
    "        print(num_1+num_2)\n",
    "    elif menuOption == \"b\":\n",
    "        print(num_1-num_2)\n",
    "    elif menuOption == \"m\":\n",
    "        print(num_1*num_2)\n",
    "    elif menuOption == \"d\":\n",
    "        print(num_1/num_2)\n",
    "    elif menuOption == \"e\":\n",
    "        print(num_1**num_2)\n",
    "    else:\n",
    "        print(\"error inputed, please re enter operator\")"
   ]
  },
  {
   "cell_type": "code",
   "execution_count": 8,
   "metadata": {},
   "outputs": [
    {
     "name": "stdout",
     "output_type": "stream",
     "text": [
      "Hello, please enter two numbers you would like to calcuate\n"
     ]
    }
   ],
   "source": [
    "print(\"Hello, please enter two numbers you would like to calcuate\")\n",
    "\n",
    "num_1 = int(input(\"Please enter your first number\"))\n",
    "num_2 = int(input(\"Please enter your second number\"))"
   ]
  },
  {
   "cell_type": "code",
   "execution_count": 9,
   "metadata": {},
   "outputs": [
    {
     "name": "stdout",
     "output_type": "stream",
     "text": [
      "10\n"
     ]
    }
   ],
   "source": [
    "calculator(num_1,num_2)"
   ]
  }
 ],
 "metadata": {
  "interpreter": {
   "hash": "31f2aee4e71d21fbe5cf8b01ff0e069b9275f58929596ceb00d14d90e3e16cd6"
  },
  "kernelspec": {
   "display_name": "Python 3.8.9 64-bit",
   "language": "python",
   "name": "python3"
  },
  "language_info": {
   "codemirror_mode": {
    "name": "ipython",
    "version": 3
   },
   "file_extension": ".py",
   "mimetype": "text/x-python",
   "name": "python",
   "nbconvert_exporter": "python",
   "pygments_lexer": "ipython3",
   "version": "3.8.9"
  },
  "orig_nbformat": 4
 },
 "nbformat": 4,
 "nbformat_minor": 2
}
